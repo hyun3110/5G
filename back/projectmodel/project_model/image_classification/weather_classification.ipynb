{
 "cells": [
  {
   "cell_type": "code",
   "execution_count": 1,
   "metadata": {
    "colab": {
     "base_uri": "https://localhost:8080/"
    },
    "executionInfo": {
     "elapsed": 3898,
     "status": "ok",
     "timestamp": 1739022384053,
     "user": {
      "displayName": "slat Error",
      "userId": "02496844690126503737"
     },
     "user_tz": -540
    },
    "id": "veqcnThxnY0w",
    "outputId": "4fdd52a1-08fe-4ee2-89cf-2628a36e29c8"
   },
   "outputs": [
    {
     "name": "stdout",
     "output_type": "stream",
     "text": [
      "Requirement already satisfied: fashion-clip in c:\\users\\smhrd\\anaconda3\\lib\\site-packages (0.2.2)\n",
      "Requirement already satisfied: faiss-cpu in c:\\users\\smhrd\\anaconda3\\lib\\site-packages (1.10.0)\n",
      "Requirement already satisfied: torch>=1.11.0 in c:\\users\\smhrd\\anaconda3\\lib\\site-packages (from fashion-clip) (2.6.0)\n",
      "Requirement already satisfied: boto3>=1.10.50 in c:\\users\\smhrd\\anaconda3\\lib\\site-packages (from fashion-clip) (1.36.18)\n",
      "Requirement already satisfied: appdirs>=1.4.4 in c:\\users\\smhrd\\anaconda3\\lib\\site-packages (from fashion-clip) (1.4.4)\n",
      "Requirement already satisfied: pandas>=1.3.5 in c:\\users\\smhrd\\anaconda3\\lib\\site-packages (from fashion-clip) (2.2.2)\n",
      "Requirement already satisfied: pyarrow>=7.0.0 in c:\\users\\smhrd\\anaconda3\\lib\\site-packages (from fashion-clip) (19.0.0)\n",
      "Requirement already satisfied: matplotlib>=3.5.1 in c:\\users\\smhrd\\anaconda3\\lib\\site-packages (from fashion-clip) (3.8.4)\n",
      "Requirement already satisfied: python-dotenv>=0.19.2 in c:\\users\\smhrd\\anaconda3\\lib\\site-packages (from fashion-clip) (0.21.0)\n",
      "Requirement already satisfied: annoy>=1.17.0 in c:\\users\\smhrd\\anaconda3\\lib\\site-packages (from fashion-clip) (1.17.3)\n",
      "Requirement already satisfied: transformers>=4.26.1 in c:\\users\\smhrd\\anaconda3\\lib\\site-packages (from fashion-clip) (4.48.3)\n",
      "Requirement already satisfied: ipyplot>=1.1.1 in c:\\users\\smhrd\\anaconda3\\lib\\site-packages (from fashion-clip) (1.1.2)\n",
      "Requirement already satisfied: datasets>=2.10.0 in c:\\users\\smhrd\\anaconda3\\lib\\site-packages (from fashion-clip) (3.2.0)\n",
      "Requirement already satisfied: validators in c:\\users\\smhrd\\anaconda3\\lib\\site-packages (from fashion-clip) (0.34.0)\n",
      "Requirement already satisfied: numpy<3.0,>=1.25.0 in c:\\users\\smhrd\\anaconda3\\lib\\site-packages (from faiss-cpu) (1.26.4)\n",
      "Requirement already satisfied: packaging in c:\\users\\smhrd\\anaconda3\\lib\\site-packages (from faiss-cpu) (23.2)\n",
      "Requirement already satisfied: botocore<1.37.0,>=1.36.18 in c:\\users\\smhrd\\anaconda3\\lib\\site-packages (from boto3>=1.10.50->fashion-clip) (1.36.18)\n",
      "Requirement already satisfied: jmespath<2.0.0,>=0.7.1 in c:\\users\\smhrd\\anaconda3\\lib\\site-packages (from boto3>=1.10.50->fashion-clip) (1.0.1)\n",
      "Requirement already satisfied: s3transfer<0.12.0,>=0.11.0 in c:\\users\\smhrd\\anaconda3\\lib\\site-packages (from boto3>=1.10.50->fashion-clip) (0.11.2)\n",
      "Requirement already satisfied: filelock in c:\\users\\smhrd\\anaconda3\\lib\\site-packages (from datasets>=2.10.0->fashion-clip) (3.13.1)\n",
      "Requirement already satisfied: dill<0.3.9,>=0.3.0 in c:\\users\\smhrd\\anaconda3\\lib\\site-packages (from datasets>=2.10.0->fashion-clip) (0.3.8)\n",
      "Requirement already satisfied: requests>=2.32.2 in c:\\users\\smhrd\\anaconda3\\lib\\site-packages (from datasets>=2.10.0->fashion-clip) (2.32.2)\n",
      "Requirement already satisfied: tqdm>=4.66.3 in c:\\users\\smhrd\\anaconda3\\lib\\site-packages (from datasets>=2.10.0->fashion-clip) (4.66.4)\n",
      "Requirement already satisfied: xxhash in c:\\users\\smhrd\\anaconda3\\lib\\site-packages (from datasets>=2.10.0->fashion-clip) (3.5.0)\n",
      "Requirement already satisfied: multiprocess<0.70.17 in c:\\users\\smhrd\\anaconda3\\lib\\site-packages (from datasets>=2.10.0->fashion-clip) (0.70.16)\n",
      "Requirement already satisfied: fsspec<=2024.9.0,>=2023.1.0 in c:\\users\\smhrd\\anaconda3\\lib\\site-packages (from fsspec[http]<=2024.9.0,>=2023.1.0->datasets>=2.10.0->fashion-clip) (2024.3.1)\n",
      "Requirement already satisfied: aiohttp in c:\\users\\smhrd\\anaconda3\\lib\\site-packages (from datasets>=2.10.0->fashion-clip) (3.9.5)\n",
      "Requirement already satisfied: huggingface-hub>=0.23.0 in c:\\users\\smhrd\\anaconda3\\lib\\site-packages (from datasets>=2.10.0->fashion-clip) (0.28.1)\n",
      "Requirement already satisfied: pyyaml>=5.1 in c:\\users\\smhrd\\anaconda3\\lib\\site-packages (from datasets>=2.10.0->fashion-clip) (6.0.1)\n",
      "Requirement already satisfied: IPython in c:\\users\\smhrd\\anaconda3\\lib\\site-packages (from ipyplot>=1.1.1->fashion-clip) (8.25.0)\n",
      "Requirement already satisfied: pillow in c:\\users\\smhrd\\anaconda3\\lib\\site-packages (from ipyplot>=1.1.1->fashion-clip) (10.3.0)\n",
      "Requirement already satisfied: shortuuid in c:\\users\\smhrd\\anaconda3\\lib\\site-packages (from ipyplot>=1.1.1->fashion-clip) (1.0.13)\n",
      "Requirement already satisfied: contourpy>=1.0.1 in c:\\users\\smhrd\\anaconda3\\lib\\site-packages (from matplotlib>=3.5.1->fashion-clip) (1.2.0)\n",
      "Requirement already satisfied: cycler>=0.10 in c:\\users\\smhrd\\anaconda3\\lib\\site-packages (from matplotlib>=3.5.1->fashion-clip) (0.11.0)\n",
      "Requirement already satisfied: fonttools>=4.22.0 in c:\\users\\smhrd\\anaconda3\\lib\\site-packages (from matplotlib>=3.5.1->fashion-clip) (4.51.0)\n",
      "Requirement already satisfied: kiwisolver>=1.3.1 in c:\\users\\smhrd\\anaconda3\\lib\\site-packages (from matplotlib>=3.5.1->fashion-clip) (1.4.4)\n",
      "Requirement already satisfied: pyparsing>=2.3.1 in c:\\users\\smhrd\\anaconda3\\lib\\site-packages (from matplotlib>=3.5.1->fashion-clip) (3.0.9)\n",
      "Requirement already satisfied: python-dateutil>=2.7 in c:\\users\\smhrd\\anaconda3\\lib\\site-packages (from matplotlib>=3.5.1->fashion-clip) (2.9.0.post0)\n",
      "Requirement already satisfied: pytz>=2020.1 in c:\\users\\smhrd\\anaconda3\\lib\\site-packages (from pandas>=1.3.5->fashion-clip) (2024.1)\n",
      "Requirement already satisfied: tzdata>=2022.7 in c:\\users\\smhrd\\anaconda3\\lib\\site-packages (from pandas>=1.3.5->fashion-clip) (2023.3)\n",
      "Requirement already satisfied: typing-extensions>=4.10.0 in c:\\users\\smhrd\\anaconda3\\lib\\site-packages (from torch>=1.11.0->fashion-clip) (4.11.0)\n",
      "Requirement already satisfied: networkx in c:\\users\\smhrd\\anaconda3\\lib\\site-packages (from torch>=1.11.0->fashion-clip) (3.2.1)\n",
      "Requirement already satisfied: jinja2 in c:\\users\\smhrd\\anaconda3\\lib\\site-packages (from torch>=1.11.0->fashion-clip) (3.1.4)\n",
      "Requirement already satisfied: setuptools in c:\\users\\smhrd\\anaconda3\\lib\\site-packages (from torch>=1.11.0->fashion-clip) (69.5.1)\n",
      "Requirement already satisfied: sympy==1.13.1 in c:\\users\\smhrd\\anaconda3\\lib\\site-packages (from torch>=1.11.0->fashion-clip) (1.13.1)\n",
      "Requirement already satisfied: mpmath<1.4,>=1.1.0 in c:\\users\\smhrd\\anaconda3\\lib\\site-packages (from sympy==1.13.1->torch>=1.11.0->fashion-clip) (1.3.0)\n",
      "Requirement already satisfied: regex!=2019.12.17 in c:\\users\\smhrd\\anaconda3\\lib\\site-packages (from transformers>=4.26.1->fashion-clip) (2023.10.3)\n",
      "Requirement already satisfied: tokenizers<0.22,>=0.21 in c:\\users\\smhrd\\anaconda3\\lib\\site-packages (from transformers>=4.26.1->fashion-clip) (0.21.0)\n",
      "Requirement already satisfied: safetensors>=0.4.1 in c:\\users\\smhrd\\anaconda3\\lib\\site-packages (from transformers>=4.26.1->fashion-clip) (0.5.2)\n",
      "Requirement already satisfied: urllib3!=2.2.0,<3,>=1.25.4 in c:\\users\\smhrd\\anaconda3\\lib\\site-packages (from botocore<1.37.0,>=1.36.18->boto3>=1.10.50->fashion-clip) (2.2.2)\n",
      "Requirement already satisfied: aiosignal>=1.1.2 in c:\\users\\smhrd\\anaconda3\\lib\\site-packages (from aiohttp->datasets>=2.10.0->fashion-clip) (1.2.0)\n",
      "Requirement already satisfied: attrs>=17.3.0 in c:\\users\\smhrd\\appdata\\roaming\\python\\python312\\site-packages (from aiohttp->datasets>=2.10.0->fashion-clip) (24.2.0)\n",
      "Requirement already satisfied: frozenlist>=1.1.1 in c:\\users\\smhrd\\anaconda3\\lib\\site-packages (from aiohttp->datasets>=2.10.0->fashion-clip) (1.4.0)\n",
      "Requirement already satisfied: multidict<7.0,>=4.5 in c:\\users\\smhrd\\anaconda3\\lib\\site-packages (from aiohttp->datasets>=2.10.0->fashion-clip) (6.0.4)\n",
      "Requirement already satisfied: yarl<2.0,>=1.0 in c:\\users\\smhrd\\anaconda3\\lib\\site-packages (from aiohttp->datasets>=2.10.0->fashion-clip) (1.9.3)\n",
      "Requirement already satisfied: six>=1.5 in c:\\users\\smhrd\\anaconda3\\lib\\site-packages (from python-dateutil>=2.7->matplotlib>=3.5.1->fashion-clip) (1.16.0)\n",
      "Requirement already satisfied: charset-normalizer<4,>=2 in c:\\users\\smhrd\\anaconda3\\lib\\site-packages (from requests>=2.32.2->datasets>=2.10.0->fashion-clip) (2.0.4)\n",
      "Requirement already satisfied: idna<4,>=2.5 in c:\\users\\smhrd\\anaconda3\\lib\\site-packages (from requests>=2.32.2->datasets>=2.10.0->fashion-clip) (3.7)\n",
      "Requirement already satisfied: certifi>=2017.4.17 in c:\\users\\smhrd\\anaconda3\\lib\\site-packages (from requests>=2.32.2->datasets>=2.10.0->fashion-clip) (2024.8.30)\n",
      "Requirement already satisfied: colorama in c:\\users\\smhrd\\anaconda3\\lib\\site-packages (from tqdm>=4.66.3->datasets>=2.10.0->fashion-clip) (0.4.6)\n",
      "Requirement already satisfied: decorator in c:\\users\\smhrd\\anaconda3\\lib\\site-packages (from IPython->ipyplot>=1.1.1->fashion-clip) (5.1.1)\n",
      "Requirement already satisfied: jedi>=0.16 in c:\\users\\smhrd\\anaconda3\\lib\\site-packages (from IPython->ipyplot>=1.1.1->fashion-clip) (0.18.1)\n",
      "Requirement already satisfied: matplotlib-inline in c:\\users\\smhrd\\anaconda3\\lib\\site-packages (from IPython->ipyplot>=1.1.1->fashion-clip) (0.1.6)\n",
      "Requirement already satisfied: prompt-toolkit<3.1.0,>=3.0.41 in c:\\users\\smhrd\\anaconda3\\lib\\site-packages (from IPython->ipyplot>=1.1.1->fashion-clip) (3.0.43)\n",
      "Requirement already satisfied: pygments>=2.4.0 in c:\\users\\smhrd\\anaconda3\\lib\\site-packages (from IPython->ipyplot>=1.1.1->fashion-clip) (2.15.1)\n",
      "Requirement already satisfied: stack-data in c:\\users\\smhrd\\anaconda3\\lib\\site-packages (from IPython->ipyplot>=1.1.1->fashion-clip) (0.2.0)\n",
      "Requirement already satisfied: traitlets>=5.13.0 in c:\\users\\smhrd\\anaconda3\\lib\\site-packages (from IPython->ipyplot>=1.1.1->fashion-clip) (5.14.3)\n",
      "Requirement already satisfied: MarkupSafe>=2.0 in c:\\users\\smhrd\\anaconda3\\lib\\site-packages (from jinja2->torch>=1.11.0->fashion-clip) (2.1.3)\n",
      "Requirement already satisfied: parso<0.9.0,>=0.8.0 in c:\\users\\smhrd\\anaconda3\\lib\\site-packages (from jedi>=0.16->IPython->ipyplot>=1.1.1->fashion-clip) (0.8.3)\n",
      "Requirement already satisfied: wcwidth in c:\\users\\smhrd\\anaconda3\\lib\\site-packages (from prompt-toolkit<3.1.0,>=3.0.41->IPython->ipyplot>=1.1.1->fashion-clip) (0.2.5)\n",
      "Requirement already satisfied: executing in c:\\users\\smhrd\\anaconda3\\lib\\site-packages (from stack-data->IPython->ipyplot>=1.1.1->fashion-clip) (0.8.3)\n",
      "Requirement already satisfied: asttokens in c:\\users\\smhrd\\anaconda3\\lib\\site-packages (from stack-data->IPython->ipyplot>=1.1.1->fashion-clip) (2.0.5)\n",
      "Requirement already satisfied: pure-eval in c:\\users\\smhrd\\anaconda3\\lib\\site-packages (from stack-data->IPython->ipyplot>=1.1.1->fashion-clip) (0.2.2)\n"
     ]
    }
   ],
   "source": [
    "!pip install fashion-clip faiss-cpu"
   ]
  },
  {
   "cell_type": "code",
   "execution_count": 2,
   "metadata": {
    "colab": {
     "base_uri": "https://localhost:8080/"
    },
    "executionInfo": {
     "elapsed": 9572,
     "status": "ok",
     "timestamp": 1739022393628,
     "user": {
      "displayName": "slat Error",
      "userId": "02496844690126503737"
     },
     "user_tz": -540
    },
    "id": "etQe7cwTosD0",
    "outputId": "a7636690-9563-45f8-d19d-00a5bd878a31"
   },
   "outputs": [
    {
     "name": "stdout",
     "output_type": "stream",
     "text": [
      "Collecting git+https://github.com/openai/CLIP.git\n",
      "  Cloning https://github.com/openai/CLIP.git to c:\\users\\smhrd\\appdata\\local\\temp\\pip-req-build-x0pk_hyz\n",
      "  Resolved https://github.com/openai/CLIP.git to commit dcba3cb2e2827b402d2701e7e1c7d9fed8a20ef1\n",
      "  Preparing metadata (setup.py): started\n",
      "  Preparing metadata (setup.py): finished with status 'done'\n",
      "Collecting ftfy (from clip==1.0)\n",
      "  Using cached ftfy-6.3.1-py3-none-any.whl.metadata (7.3 kB)\n",
      "Requirement already satisfied: packaging in c:\\users\\smhrd\\anaconda3\\lib\\site-packages (from clip==1.0) (23.2)\n",
      "Requirement already satisfied: regex in c:\\users\\smhrd\\anaconda3\\lib\\site-packages (from clip==1.0) (2023.10.3)\n",
      "Requirement already satisfied: tqdm in c:\\users\\smhrd\\anaconda3\\lib\\site-packages (from clip==1.0) (4.66.4)\n",
      "Requirement already satisfied: torch in c:\\users\\smhrd\\anaconda3\\lib\\site-packages (from clip==1.0) (2.6.0)\n",
      "Requirement already satisfied: torchvision in c:\\users\\smhrd\\anaconda3\\lib\\site-packages (from clip==1.0) (0.21.0)\n",
      "Requirement already satisfied: wcwidth in c:\\users\\smhrd\\anaconda3\\lib\\site-packages (from ftfy->clip==1.0) (0.2.5)\n",
      "Requirement already satisfied: filelock in c:\\users\\smhrd\\anaconda3\\lib\\site-packages (from torch->clip==1.0) (3.13.1)\n",
      "Requirement already satisfied: typing-extensions>=4.10.0 in c:\\users\\smhrd\\anaconda3\\lib\\site-packages (from torch->clip==1.0) (4.11.0)\n",
      "Requirement already satisfied: networkx in c:\\users\\smhrd\\anaconda3\\lib\\site-packages (from torch->clip==1.0) (3.2.1)\n",
      "Requirement already satisfied: jinja2 in c:\\users\\smhrd\\anaconda3\\lib\\site-packages (from torch->clip==1.0) (3.1.4)\n",
      "Requirement already satisfied: fsspec in c:\\users\\smhrd\\anaconda3\\lib\\site-packages (from torch->clip==1.0) (2024.3.1)\n",
      "Requirement already satisfied: setuptools in c:\\users\\smhrd\\anaconda3\\lib\\site-packages (from torch->clip==1.0) (69.5.1)\n",
      "Requirement already satisfied: sympy==1.13.1 in c:\\users\\smhrd\\anaconda3\\lib\\site-packages (from torch->clip==1.0) (1.13.1)\n",
      "Requirement already satisfied: mpmath<1.4,>=1.1.0 in c:\\users\\smhrd\\anaconda3\\lib\\site-packages (from sympy==1.13.1->torch->clip==1.0) (1.3.0)\n",
      "Requirement already satisfied: numpy in c:\\users\\smhrd\\anaconda3\\lib\\site-packages (from torchvision->clip==1.0) (1.26.4)\n",
      "Requirement already satisfied: pillow!=8.3.*,>=5.3.0 in c:\\users\\smhrd\\anaconda3\\lib\\site-packages (from torchvision->clip==1.0) (10.3.0)\n",
      "Requirement already satisfied: colorama in c:\\users\\smhrd\\anaconda3\\lib\\site-packages (from tqdm->clip==1.0) (0.4.6)\n",
      "Requirement already satisfied: MarkupSafe>=2.0 in c:\\users\\smhrd\\anaconda3\\lib\\site-packages (from jinja2->torch->clip==1.0) (2.1.3)\n",
      "Using cached ftfy-6.3.1-py3-none-any.whl (44 kB)\n",
      "Building wheels for collected packages: clip\n",
      "  Building wheel for clip (setup.py): started\n",
      "  Building wheel for clip (setup.py): finished with status 'done'\n",
      "  Created wheel for clip: filename=clip-1.0-py3-none-any.whl size=1369571 sha256=278da36c18ef7be745e49a8b11fb5d0adbd3c390c30306594f1637edd982f44d\n",
      "  Stored in directory: C:\\Users\\SMHRD\\AppData\\Local\\Temp\\pip-ephem-wheel-cache-1lak5h3u\\wheels\\35\\3e\\df\\3d24cbfb3b6a06f17a2bfd7d1138900d4365d9028aa8f6e92f\n",
      "Successfully built clip\n",
      "Installing collected packages: ftfy, clip\n",
      "Successfully installed clip-1.0 ftfy-6.3.1\n"
     ]
    },
    {
     "name": "stderr",
     "output_type": "stream",
     "text": [
      "  Running command git clone --filter=blob:none --quiet https://github.com/openai/CLIP.git 'C:\\Users\\SMHRD\\AppData\\Local\\Temp\\pip-req-build-x0pk_hyz'\n"
     ]
    }
   ],
   "source": [
    "!pip install git+https://github.com/openai/CLIP.git"
   ]
  },
  {
   "cell_type": "code",
   "execution_count": 3,
   "metadata": {
    "executionInfo": {
     "elapsed": 5,
     "status": "ok",
     "timestamp": 1739022393644,
     "user": {
      "displayName": "slat Error",
      "userId": "02496844690126503737"
     },
     "user_tz": -540
    },
    "id": "vt7j-yRtix5H"
   },
   "outputs": [],
   "source": [
    "import torch\n",
    "import clip\n",
    "from PIL import Image\n",
    "import random\n",
    "import matplotlib.pyplot as plt\n",
    "import os"
   ]
  },
  {
   "cell_type": "code",
   "execution_count": 4,
   "metadata": {
    "executionInfo": {
     "elapsed": 33,
     "status": "ok",
     "timestamp": 1739022393682,
     "user": {
      "displayName": "slat Error",
      "userId": "02496844690126503737"
     },
     "user_tz": -540
    },
    "id": "_VyBKNq1mwzk"
   },
   "outputs": [
    {
     "name": "stderr",
     "output_type": "stream",
     "text": [
      "<>:2: SyntaxWarning: invalid escape sequence '\\p'\n",
      "<>:2: SyntaxWarning: invalid escape sequence '\\p'\n",
      "C:\\Users\\SMHRD\\AppData\\Local\\Temp\\ipykernel_10672\\2088214066.py:2: SyntaxWarning: invalid escape sequence '\\p'\n",
      "  WorkDir = \"back\\projectmodel\\project_model\\image_classification\"\n"
     ]
    }
   ],
   "source": [
    "# ✅ 작업 디렉토리 설정\n",
    "WorkDir = \"back\\projectmodel\\project_model\\image_classification\""
   ]
  },
  {
   "cell_type": "code",
   "execution_count": 5,
   "metadata": {
    "executionInfo": {
     "elapsed": 18,
     "status": "ok",
     "timestamp": 1739022393702,
     "user": {
      "displayName": "slat Error",
      "userId": "02496844690126503737"
     },
     "user_tz": -540
    },
    "id": "7ggLvzc4mwwX"
   },
   "outputs": [],
   "source": [
    "# ✅ 이미지 데이터 및 결과 저장 경로 설정\n",
    "image_folder = os.path.join(WorkDir, \"crawled_images\")  # 원본 이미지 폴더\n",
    "weather_result_folder = os.path.join(WorkDir, \"weather_result\")  # 체감 온도별 분류된 이미지 저장 폴더\n",
    "training_data_folder = os.path.join(WorkDir, \"training_data\")  # 학습 데이터 저장 폴더"
   ]
  },
  {
   "cell_type": "code",
   "execution_count": 6,
   "metadata": {
    "executionInfo": {
     "elapsed": 301,
     "status": "ok",
     "timestamp": 1739022394010,
     "user": {
      "displayName": "slat Error",
      "userId": "02496844690126503737"
     },
     "user_tz": -540
    },
    "id": "FspgAts6mwtr"
   },
   "outputs": [],
   "source": [
    "# 폴더 생성 (없으면 생성)\n",
    "os.makedirs(weather_result_folder, exist_ok=True)\n",
    "os.makedirs(training_data_folder, exist_ok=True)"
   ]
  },
  {
   "cell_type": "code",
   "execution_count": 8,
   "metadata": {
    "colab": {
     "base_uri": "https://localhost:8080/"
    },
    "executionInfo": {
     "elapsed": 19805,
     "status": "ok",
     "timestamp": 1739022413818,
     "user": {
      "displayName": "slat Error",
      "userId": "02496844690126503737"
     },
     "user_tz": -540
    },
    "id": "HSY-JtcNmwgd",
    "outputId": "73a0f135-1df1-466f-b119-7f8d4d1a67c8"
   },
   "outputs": [
    {
     "name": "stderr",
     "output_type": "stream",
     "text": [
      "c:\\Users\\SMHRD\\anaconda3\\Lib\\site-packages\\clip\\clip.py:57: UserWarning: C:\\Users\\SMHRD/.cache/clip\\ViT-B-32.pt exists, but the SHA256 checksum does not match; re-downloading the file\n",
      "  warnings.warn(f\"{download_target} exists, but the SHA256 checksum does not match; re-downloading the file\")\n",
      "100%|███████████████████████████████████████| 338M/338M [00:04<00:00, 83.5MiB/s]\n"
     ]
    }
   ],
   "source": [
    "device = \"cuda\" if torch.cuda.is_available() else \"cpu\"\n",
    "model, preprocess = clip.load(\"ViT-B/32\", device=device)"
   ]
  },
  {
   "cell_type": "code",
   "execution_count": 9,
   "metadata": {
    "executionInfo": {
     "elapsed": 8,
     "status": "ok",
     "timestamp": 1739022413834,
     "user": {
      "displayName": "slat Error",
      "userId": "02496844690126503737"
     },
     "user_tz": -540
    },
    "id": "oPtlDt5_m-1t"
   },
   "outputs": [],
   "source": [
    "# ✅ 체감 온도 & 스타일 기반 텍스트 조건 생성\n",
    "def generate_text_prompt(feels_like_temp, style):\n",
    "    if feels_like_temp < 10:\n",
    "        temp_desc = \"cold weather outfit\"\n",
    "    elif 10 <= feels_like_temp <= 20:\n",
    "        temp_desc = \"mild weather outfit\"\n",
    "    else:\n",
    "        temp_desc = \"hot weather outfit\"\n",
    "\n",
    "    return f\"{temp_desc} {style} style outfit\""
   ]
  },
  {
   "cell_type": "code",
   "execution_count": 10,
   "metadata": {
    "executionInfo": {
     "elapsed": 4,
     "status": "ok",
     "timestamp": 1739022413844,
     "user": {
      "displayName": "slat Error",
      "userId": "02496844690126503737"
     },
     "user_tz": -540
    },
    "id": "WHskcozYm-zd"
   },
   "outputs": [],
   "source": [
    "# ✅ 폴더에서 의류 이미지 경로 불러오기\n",
    "def load_image_paths(folder_path):\n",
    "    image_dataset = {\"Top\": [], \"Bottom\": [], \"Outerwear\": []}\n",
    "    for category in image_dataset.keys():\n",
    "        category_path = os.path.join(folder_path, category)\n",
    "        if os.path.exists(category_path):\n",
    "            image_dataset[category] = [os.path.join(category_path, img) for img in os.listdir(category_path) if img.endswith((\".jpg\", \".png\"))]\n",
    "    return image_dataset"
   ]
  },
  {
   "cell_type": "code",
   "execution_count": 11,
   "metadata": {
    "executionInfo": {
     "elapsed": 5,
     "status": "ok",
     "timestamp": 1739022413852,
     "user": {
      "displayName": "slat Error",
      "userId": "02496844690126503737"
     },
     "user_tz": -540
    },
    "id": "oaRHQHgpm-wz"
   },
   "outputs": [],
   "source": [
    "# ✅ Fashion-CLIP을 활용한 의류 이미지 분류\n",
    "def classify_images_by_similarity(image_paths, prompt):\n",
    "    images = [Image.open(img_path) for img_path in image_paths]\n",
    "    image_tensors = torch.stack([preprocess(img) for img in images]).to(device)\n",
    "\n",
    "    text = clip.tokenize([prompt]).to(device)\n",
    "\n",
    "    with torch.no_grad():\n",
    "        image_features = model.encode_image(image_tensors)\n",
    "        text_features = model.encode_text(text)\n",
    "        similarities = (image_features @ text_features.T).squeeze(1)\n",
    "\n",
    "    sorted_indices = similarities.argsort(descending=True)\n",
    "    sorted_images = [image_paths[idx] for idx in sorted_indices]\n",
    "    return sorted_images"
   ]
  },
  {
   "cell_type": "code",
   "execution_count": 12,
   "metadata": {
    "executionInfo": {
     "elapsed": 3,
     "status": "ok",
     "timestamp": 1739022413857,
     "user": {
      "displayName": "slat Error",
      "userId": "02496844690126503737"
     },
     "user_tz": -540
    },
    "id": "2m-XLZzBm-sp"
   },
   "outputs": [],
   "source": [
    "# ✅ 체감 온도에 따라 이미지 저장\n",
    "def save_weather_classified_images(feels_like_temp, style, image_folder, output_folder):\n",
    "    image_dataset = load_image_paths(image_folder)\n",
    "    prompt = generate_text_prompt(feels_like_temp, style)\n",
    "    classified_outfit = {}\n",
    "\n",
    "    for category, image_paths in image_dataset.items():\n",
    "        if image_paths:\n",
    "            sorted_images = classify_images_by_similarity(image_paths, prompt)\n",
    "            classified_outfit[category] = sorted_images[:3]  # 상위 3개 이미지 선택\n",
    "\n",
    "            category_output_folder = os.path.join(output_folder, f\"{feels_like_temp}_{style}\", category)\n",
    "            os.makedirs(category_output_folder, exist_ok=True)\n",
    "\n",
    "            for img_path in sorted_images[:3]:\n",
    "                img = Image.open(img_path)\n",
    "                img.save(os.path.join(category_output_folder, os.path.basename(img_path)))"
   ]
  },
  {
   "cell_type": "code",
   "execution_count": 14,
   "metadata": {
    "executionInfo": {
     "elapsed": 3,
     "status": "ok",
     "timestamp": 1739022413861,
     "user": {
      "displayName": "slat Error",
      "userId": "02496844690126503737"
     },
     "user_tz": -540
    },
    "id": "CITp9ZdRnGKE"
   },
   "outputs": [],
   "source": [
    "# ✅ 학습 데이터 저장 (향후 모델 개선 시 사용 가능)\n",
    "def save_training_data(image_folder, output_folder):\n",
    "    image_dataset = load_image_paths(image_folder)\n",
    "    for category, image_paths in image_dataset.items():\n",
    "        category_folder = os.path.join(output_folder, category)\n",
    "        os.makedirs(category_folder, exist_ok=True)\n",
    "        for img_path in image_paths:\n",
    "            img = Image.open(img_path)\n",
    "            img.save(os.path.join(category_folder, os.path.basename(img_path)))"
   ]
  },
  {
   "cell_type": "code",
   "execution_count": 24,
   "metadata": {},
   "outputs": [],
   "source": [
    "# ✅ Fashion-CLIP을 활용한 유사도 계산 함수\n",
    "def classify_image_by_similarity(image_path, prompt):\n",
    "    \"\"\"주어진 이미지와 텍스트 프롬프트 간의 유사도를 계산\"\"\"\n",
    "    image = Image.open(image_path)\n",
    "    image_tensor = preprocess(image).unsqueeze(0).to(device)\n",
    "    text = clip.tokenize([prompt]).to(device)\n",
    "    \n",
    "    with torch.no_grad():\n",
    "        image_feature = model.encode_image(image_tensor)\n",
    "        text_feature = model.encode_text(text)\n",
    "        similarity = (image_feature @ text_feature.T).item()\n",
    "    \n",
    "    return similarity, image"
   ]
  },
  {
   "cell_type": "code",
   "execution_count": 25,
   "metadata": {
    "executionInfo": {
     "elapsed": 3,
     "status": "ok",
     "timestamp": 1739022413864,
     "user": {
      "displayName": "slat Error",
      "userId": "02496844690126503737"
     },
     "user_tz": -540
    },
    "id": "ilpSj9utnIab"
   },
   "outputs": [],
   "source": [
    "# 학습 데이터 저장 실행\n",
    "save_training_data(weather_result_folder, training_data_folder)"
   ]
  },
  {
   "cell_type": "code",
   "execution_count": 26,
   "metadata": {},
   "outputs": [],
   "source": [
    "test_image_path = r\"C:\\\\Users\\\\SMHRD\\\\Desktop\\\\5g\\\\5G\\\\back\\\\projectmodel\\\\project_model\\\\image_classification\\\\crawled_images\\\\image_4.jpg\""
   ]
  },
  {
   "cell_type": "code",
   "execution_count": 27,
   "metadata": {},
   "outputs": [],
   "source": [
    "# ✅ 체감 온도 및 스타일 설정\n",
    "feels_like_temp = 12  # 체감 온도\n",
    "style = \"Casual\"  # 선택 스타일"
   ]
  },
  {
   "cell_type": "code",
   "execution_count": null,
   "metadata": {},
   "outputs": [
    {
     "ename": "",
     "evalue": "",
     "output_type": "error",
     "traceback": [
      "\u001b[1;31mThe Kernel crashed while executing code in the current cell or a previous cell. \n",
      "\u001b[1;31mPlease review the code in the cell(s) to identify a possible cause of the failure. \n",
      "\u001b[1;31mClick <a href='https://aka.ms/vscodeJupyterKernelCrash'>here</a> for more info. \n",
      "\u001b[1;31mView Jupyter <a href='command:jupyter.viewOutput'>log</a> for further details."
     ]
    }
   ],
   "source": [
    "# ✅ 테스트 실행\n",
    "prompt = generate_text_prompt(feels_like_temp, style)\n",
    "similarity_score, test_image = classify_image_by_similarity(test_image_path, prompt)"
   ]
  },
  {
   "cell_type": "code",
   "execution_count": 1,
   "metadata": {},
   "outputs": [
    {
     "ename": "NameError",
     "evalue": "name 'test_image_path' is not defined",
     "output_type": "error",
     "traceback": [
      "\u001b[1;31m---------------------------------------------------------------------------\u001b[0m",
      "\u001b[1;31mNameError\u001b[0m                                 Traceback (most recent call last)",
      "Cell \u001b[1;32mIn[1], line 2\u001b[0m\n\u001b[0;32m      1\u001b[0m \u001b[38;5;66;03m# ✅ 결과 출력\u001b[39;00m\n\u001b[1;32m----> 2\u001b[0m \u001b[38;5;28mprint\u001b[39m(\u001b[38;5;124mf\u001b[39m\u001b[38;5;124m\"\u001b[39m\u001b[38;5;124m이미지 경로: \u001b[39m\u001b[38;5;132;01m{\u001b[39;00mtest_image_path\u001b[38;5;132;01m}\u001b[39;00m\u001b[38;5;124m\"\u001b[39m)\n\u001b[0;32m      3\u001b[0m \u001b[38;5;28mprint\u001b[39m(\u001b[38;5;124mf\u001b[39m\u001b[38;5;124m\"\u001b[39m\u001b[38;5;124m프롬프트: \u001b[39m\u001b[38;5;132;01m{\u001b[39;00mprompt\u001b[38;5;132;01m}\u001b[39;00m\u001b[38;5;124m\"\u001b[39m)\n\u001b[0;32m      4\u001b[0m \u001b[38;5;28mprint\u001b[39m(\u001b[38;5;124mf\u001b[39m\u001b[38;5;124m\"\u001b[39m\u001b[38;5;124m유사도 점수: \u001b[39m\u001b[38;5;132;01m{\u001b[39;00msimilarity_score\u001b[38;5;132;01m:\u001b[39;00m\u001b[38;5;124m.4f\u001b[39m\u001b[38;5;132;01m}\u001b[39;00m\u001b[38;5;124m\"\u001b[39m)\n",
      "\u001b[1;31mNameError\u001b[0m: name 'test_image_path' is not defined"
     ]
    }
   ],
   "source": [
    "# ✅ 결과 출력\n",
    "print(f\"이미지 경로: {test_image_path}\")\n",
    "print(f\"프롬프트: {prompt}\")\n",
    "print(f\"유사도 점수: {similarity_score:.4f}\")\n",
    "\n",
    "# ✅ 이미지 출력\n",
    "plt.figure(figsize=(5,5))\n",
    "plt.imshow(test_image)\n",
    "plt.axis(\"off\")\n",
    "plt.title(f\"Similarity: {similarity_score:.4f}\")\n",
    "plt.show()\n"
   ]
  }
 ],
 "metadata": {
  "colab": {
   "authorship_tag": "ABX9TyPG4VOUAZupibul4lRYCHBb",
   "provenance": []
  },
  "kernelspec": {
   "display_name": "base",
   "language": "python",
   "name": "python3"
  },
  "language_info": {
   "codemirror_mode": {
    "name": "ipython",
    "version": 3
   },
   "file_extension": ".py",
   "mimetype": "text/x-python",
   "name": "python",
   "nbconvert_exporter": "python",
   "pygments_lexer": "ipython3",
   "version": "3.12.4"
  }
 },
 "nbformat": 4,
 "nbformat_minor": 0
}
